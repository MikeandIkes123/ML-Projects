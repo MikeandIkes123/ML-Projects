{
 "cells": [
  {
   "cell_type": "markdown",
   "metadata": {},
   "source": [
    "# Part 2: MLP\n",
    "\n",
    "In this part of the assignment, you will complete a Do-It-Yourself (DIY) implementation of a multilayer perceptron (MLP), including code to optimize the network with backpropagation and minibatch stochastic gradient descent, that corresponds to the Scikit-Learn API.\n",
    "\n",
    "**Learning objectives.** You will:\n",
    "1. Write object-oriented code for a neural network class in Python class, matching standard API patterns.\n",
    "2. Apply numerical Python (NumPy) to efficiently implement a multilayer perceptron with backpropagation and minibatch stochastic gradient descent. \n",
    "3. Evaluate your implementation compared to the Scikit-Learn standard on real image data. "
   ]
  },
  {
   "cell_type": "markdown",
   "metadata": {},
   "source": [
    "The following code imports a dataset consisting of 8 by 8 pixel grayscale images of handwritten digits. Some images are visualized and then the data are flattened into 64-value one-dimensional NumPy arrays before splitting into training and testing sets."
   ]
  },
  {
   "cell_type": "code",
   "execution_count": 11,
   "metadata": {},
   "outputs": [
    {
     "name": "stdout",
     "output_type": "stream",
     "text": [
      "(1797, 64)\n"
     ]
    },
    {
     "data": {
      "image/png": "[encoded data removed]",
      "text/plain": [
       "<Figure size 1000x300 with 4 Axes>"
      ]
     },
     "metadata": {},
     "output_type": "display_data"
    }
   ],
   "source": [
    "# Run but DO NOT MODIFY this code\n",
    "\n",
    "from sklearn.datasets import load_digits\n",
    "import matplotlib.pyplot as plt\n",
    "from sklearn.model_selection import train_test_split\n",
    "\n",
    "digits = load_digits()\n",
    "print(digits.data.shape)\n",
    "\n",
    "# visualizing examples\n",
    "_, axes = plt.subplots(nrows=1, ncols=4, figsize=(10, 3))\n",
    "for ax, image, label in zip(axes, digits.images, digits.target):\n",
    "    ax.set_axis_off()\n",
    "    ax.imshow(image, cmap=plt.cm.gray_r, interpolation=\"nearest\")\n",
    "    ax.set_title(\"Training: %i\" % label)\n",
    "\n",
    "# flatten the images\n",
    "n_samples = len(digits.images)\n",
    "data = digits.images.reshape((n_samples, -1))\n",
    "\n",
    "# Split data into 70% train and 30% test subsets\n",
    "X_train, X_test, y_train, y_test = train_test_split(\n",
    "    data, digits.target, test_size=0.3, shuffle=False)"
   ]
  },
  {
   "cell_type": "markdown",
   "metadata": {},
   "source": [
    "## Task 1\n",
    "\n",
    "Using Scikit-Learn, build a [multilayer perceptron classifier](https://scikit-learn.org/stable/modules/generated/sklearn.neural_network.MLPClassifier.html) fit on the training data to predict the value of `y` given `X`. You may need to experiment with different numbers of hidden units (you only need to have one hidden layer) or other training hyperparameters. Ensure that you achieve a **training** [accuracy](https://scikit-learn.org/stable/modules/generated/sklearn.metrics.accuracy_score.html) of at least 90%.   \n",
    "\n",
    "Then evaluate and report the [accuracy](https://scikit-learn.org/stable/modules/generated/sklearn.metrics.accuracy_score.html) of your model on the **test** data."
   ]
  },
  {
   "cell_type": "code",
   "execution_count": 14,
   "metadata": {},
   "outputs": [
    {
     "name": "stdout",
     "output_type": "stream",
     "text": [
      "Test Accuracy: 0.9333\n",
      "Train Accuracy: 1.0000\n"
     ]
    }
   ],
   "source": [
    "# Write code for task 1 here\n",
    "from sklearn.neural_network import MLPClassifier\n",
    "from sklearn.metrics import accuracy_score\n",
    "\n",
    "mlp = MLPClassifier(hidden_layer_sizes=(100,), max_iter=1000, learning_rate_init=0.001, random_state=2024).fit(X_train, y_train)\n",
    "train_predictions = mlp.predict(X_train)\n",
    "test_predictions = mlp.predict(X_test)\n",
    "\n",
    "test_accuracy = accuracy_score(y_test, test_predictions)\n",
    "train_accuracy = accuracy_score(y_train, train_predictions)\n",
    "print(f\"Test Accuracy: {test_accuracy:.4f}\")\n",
    "print(f\"Train Accuracy: {train_accuracy:.4f}\")\n"
   ]
  },
  {
   "cell_type": "markdown",
   "metadata": {},
   "source": [
    "## Task 2\n",
    "\n",
    "Implement a do it yourself (DIY) multilayer perceptron classifier following the Scikit-Learn API by completing the `NeuralNet` class below. \n",
    "\n",
    "You will see in the description of the class that we are suggesting a somewhat atypical architecture consisting of a single hidden layer with hyperbolic tangent activation followed by linear output, trained on the sum of squares loss. This is to simplify the implementation and align it with the simple example of backpropagation shown in the [Bishop Deep Learning Book](https://www.bishopbook.com/) Section 8.1.3 (meaning you do not need to derive the derivatives for backpropagation yourself and are invited to implement the derivations from the book).\n",
    "\n",
    "Some important notes about the implementation:\n",
    "\n",
    "1. Remember that the Scikit-Learn API treats an input `X` array, whether to `fit` or `predict`, as a matrix with a row for every data point and a column for every feature. \n",
    "2. For `fit`, every row in `X` corresponds to a given output in `y`, and  you don't need to return anything, just optimize the internal model weights using minibatch stochastic gradient descent. Model weights should be stored as instance variables -- we recommend that you initialize these weights as random normally distributed values, for example by using NumPy's [random.normal](https://numpy.org/doc/stable/reference/random/generated/numpy.random.normal.html). You may wish to separately implement a `backprop` helper method to compute the gradient in order to simplify the code structure, but this is optional. \n",
    "3. For `predict_proba`, you should return a two-dimensional NumPy array with a row for every row in `X` and a column for every value in `0, 1, ..., out_size - 1` corresponding to the possible classes, where each entry in a given row corresponds to a probability the given row's input corresponds to the given column's class.\n",
    "4. For `predict`, you should return a one-dimensional NumPy array with a single element `0, 1, ..., out_size - 1` per row in `X` corresponding to the class with the highest predicted probability.\n",
    "5. You do **not** need to include a bias term for this implementation.\n",
    "6. The `fit` method takes an optional `verbose` parameter. While it is not required, we highly recommend that you include code in the `fit` method that, when `verbose` is `True`, logs/prints more information about the training process to help debug. \n",
    "7. The `pass` statements are syntactic placeholders that should be removed when you implement a method.\n",
    "8. Make sure to double check the shapes/dimensions of any matrices or vectors to confirm they align with your expectations.\n",
    "9. Finally, note that your implementation will be much more efficient if you use vectorized NumPy operations and avoid for loops or nested for loops over large amounts of data."
   ]
  },
  {
   "cell_type": "code",
   "execution_count": 9,
   "metadata": {},
   "outputs": [],
   "source": [
    "import numpy as np\n",
    "\n",
    "class NeuralNet:\n",
    "    def __init__(self, in_size, out_size, h_size, lr=0.01, batch_size=64, epochs=100):\n",
    "        self.in_size = in_size\n",
    "        self.out_size = out_size\n",
    "        self.h_size = h_size\n",
    "        self.lr = lr\n",
    "        self.batch_size = batch_size\n",
    "        self.epochs = epochs\n",
    "\n",
    "        # Initialize weights\n",
    "        self.W1 = np.random.randn(self.in_size, self.h_size) * 0.01\n",
    "        self.W2 = np.random.randn(self.h_size, self.out_size) * 0.01\n",
    "\n",
    "    def fit(self, X, y, verbose=True):\n",
    "        num_batches = X.shape[0] // self.batch_size\n",
    "        num_classes = len(np.unique(y))\n",
    "        \n",
    "        for epoch in range(self.epochs):\n",
    "            for i in range(num_batches):\n",
    "                # Mini-batch\n",
    "                X_batch = X[i * self.batch_size:(i + 1) * self.batch_size]\n",
    "                y_batch = y[i * self.batch_size:(i + 1) * self.batch_size]\n",
    "\n",
    "                # Forward pass\n",
    "                hidden_layer_input = np.dot(X_batch, self.W1)\n",
    "                hidden_layer_output = np.maximum(0, hidden_layer_input)  # ReLU max(0, x)\n",
    "\n",
    "                output_layer_input = np.dot(hidden_layer_output, self.W2)\n",
    "\n",
    "                # One-hot encode the target labels\n",
    "                y_batch_one_hot = self.one_hot_encode(y_batch, num_classes)\n",
    "\n",
    "                loss = np.sum((output_layer_input - y_batch_one_hot) ** 2) / (2 * self.batch_size)\n",
    "\n",
    "                # Backward pass\n",
    "                output_delta = (output_layer_input - y_batch_one_hot) / self.batch_size\n",
    "                hidden_delta = np.dot(output_delta, self.W2.T) * (hidden_layer_output > 0)\n",
    "\n",
    "                # Gradient updates\n",
    "                self.W2 -= self.lr * np.dot(hidden_layer_output.T, output_delta)\n",
    "                self.W1 -= self.lr * np.dot(X_batch.T, hidden_delta)\n",
    "\n",
    "            if verbose and epoch % 10 == 0:\n",
    "                print(f\"Epoch {epoch}, Loss: {loss:.4f}\")\n",
    "\n",
    "    def predict(self, X):\n",
    "        hidden_layer_output = np.maximum(0, np.dot(X, self.W1))\n",
    "        output_layer_input = np.dot(hidden_layer_output, self.W2)\n",
    "        return np.argmax(output_layer_input, axis=1)\n",
    "    \n",
    "    def one_hot_encode(self, y, num_classes):\n",
    "        \"\"\"One-hot encode the labels.\"\"\"\n",
    "        one_hot = np.zeros((y.size, num_classes))\n",
    "        one_hot[np.arange(y.size), y] = 1\n",
    "        return one_hot\n"
   ]
  },
  {
   "cell_type": "markdown",
   "metadata": {},
   "source": [
    "We used GPT for the one_hot_encode method because we needed to one-hot encode the labels. This is because the neural network's output consists of continuous values for each class (in a classification problem with multiple categories), but we want to compare these outputs with the actual class labels in a meaningful way."
   ]
  },
  {
   "cell_type": "markdown",
   "metadata": {},
   "source": [
    "## Task 3\n",
    "\n",
    "Show that your `NeuralNet` class can effectively learn. Specifically fit an instance of your DIY model on the training data to predict the value of `y` given `X`. You may need to experiment with different numbers of hidden units (you only need to have one hidden layer) or other training hyperparameters. Ensure that you achieve a **training** [accuracy](https://scikit-learn.org/stable/modules/generated/sklearn.metrics.accuracy_score.html) of at least 70% (your implementation is not expected to achieve the same level of performance as the Scikit-Learn implementation, but should demonstrate the proof of concept).   \n",
    "\n",
    "Then evaluate and report the [accuracy](https://scikit-learn.org/stable/modules/generated/sklearn.metrics.accuracy_score.html) of your model on the **test** data."
   ]
  },
  {
   "cell_type": "code",
   "execution_count": 12,
   "metadata": {},
   "outputs": [
    {
     "name": "stdout",
     "output_type": "stream",
     "text": [
      "Epoch 0, Loss: 0.3829\n",
      "Epoch 10, Loss: 0.1206\n",
      "Epoch 20, Loss: 0.0729\n",
      "Epoch 30, Loss: 0.0534\n",
      "Epoch 40, Loss: 0.0443\n",
      "Epoch 50, Loss: 0.0394\n",
      "Epoch 60, Loss: 0.0362\n",
      "Epoch 70, Loss: 0.0336\n",
      "Epoch 80, Loss: 0.0316\n",
      "Epoch 90, Loss: 0.0299\n",
      "Training Accuracy: 1.00\n",
      "Test Accuracy: 0.93\n"
     ]
    }
   ],
   "source": [
    "model = NeuralNet(in_size=X_train.shape[1], out_size=len(np.unique(y_train)), h_size=100, lr=0.01, batch_size=64, epochs=100)\n",
    "model.fit(X_train, y_train, verbose=True)\n",
    "\n",
    "train_predictions = model.predict(X_train)\n",
    "train_accuracy = np.mean(train_predictions == y_train)\n",
    "print(f'Training Accuracy: {train_accuracy:.2f}')\n",
    "\n",
    "test_predictions = model.predict(X_test)\n",
    "test_accuracy = np.mean(test_predictions == y_test)\n",
    "print(f'Test Accuracy: {test_accuracy:.2f}')\n"
   ]
  }
 ],
 "metadata": {
  "kernelspec": {
   "display_name": "Python 3 (ipykernel)",
   "language": "python",
   "name": "python3"
  },
  "language_info": {
   "codemirror_mode": {
    "name": "ipython",
    "version": 3
   },
   "file_extension": ".py",
   "mimetype": "text/x-python",
   "name": "python",
   "nbconvert_exporter": "python",
   "pygments_lexer": "ipython3",
   "version": "3.11.5"
  }
 },
 "nbformat": 4,
 "nbformat_minor": 2
}
