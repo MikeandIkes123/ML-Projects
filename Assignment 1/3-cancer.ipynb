{
 "cells": [
  {
   "cell_type": "markdown",
   "metadata": {},
   "source": [
    "# Part 3: Cancer\n",
    "\n",
    "In this part of the assignment, you will build a predictive model to classify a given breast tumor as cancer or not based on exam measurements of the size and shape of the tumor. \n",
    "\n",
    "**Learning objectives.** You will:\n",
    "1. Train and test a logistic regression model for binary classification. \n",
    "2. Evaluate and interpret a range of metrics including the confusion matrix, precision, recall, and ROC curve.\n",
    "3. Look for evidence of overfitting and perform hyperparameter selection to choose a regularization weight on a validation set to mitigate overfitting.\n",
    "4. Fit and discuss an interpretable shallow decision tree model.\n",
    "\n",
    "The following code will download all of the data, print the feature names, and preview one example. The target value is binary: either `1` or `0` depending on whether the tumor is malignant or benign.\n",
    "\n",
    "The code stores the feature matrix `X` as a two-dimensional NumPy array where each row corresponds to a data point and each column is a feature. The target value is stored as a one-dimensional NumPy array `y` where the index `i` element of `y` correpsonds to the row `i` data point of `X`.\n",
    "\n",
    "Your overall goal in this part is to build and evaluate a logistic model to predict the target variable `y` as a function of the ten features in `X` by predicting the probability that a given tumor is malignant."
   ]
  },
  {
   "cell_type": "code",
   "execution_count": 1,
   "metadata": {},
   "outputs": [
    {
     "name": "stdout",
     "output_type": "stream",
     "text": [
      "['mean radius' 'mean texture' 'mean perimeter' 'mean area'\n",
      " 'mean smoothness' 'mean compactness' 'mean concavity'\n",
      " 'mean concave points' 'mean symmetry' 'mean fractal dimension'\n",
      " 'radius error' 'texture error' 'perimeter error' 'area error'\n",
      " 'smoothness error' 'compactness error' 'concavity error'\n",
      " 'concave points error' 'symmetry error' 'fractal dimension error'\n",
      " 'worst radius' 'worst texture' 'worst perimeter' 'worst area'\n",
      " 'worst smoothness' 'worst compactness' 'worst concavity'\n",
      " 'worst concave points' 'worst symmetry' 'worst fractal dimension']\n",
      "[1.799e+01 1.038e+01 1.228e+02 1.001e+03 1.184e-01 2.776e-01 3.001e-01\n",
      " 1.471e-01 2.419e-01 7.871e-02 1.095e+00 9.053e-01 8.589e+00 1.534e+02\n",
      " 6.399e-03 4.904e-02 5.373e-02 1.587e-02 3.003e-02 6.193e-03 2.538e+01\n",
      " 1.733e+01 1.846e+02 2.019e+03 1.622e-01 6.656e-01 7.119e-01 2.654e-01\n",
      " 4.601e-01 1.189e-01]\n",
      "0\n"
     ]
    }
   ],
   "source": [
    "# Run but DO NOT MODIFY this code\n",
    "\n",
    "from sklearn.datasets import load_breast_cancer\n",
    "\n",
    "# Load the diabetes dataset\n",
    "cancer = load_breast_cancer()\n",
    "print(cancer.feature_names)\n",
    "\n",
    "# Get the feature data and target variable\n",
    "X = cancer.data\n",
    "y = cancer.target\n",
    "\n",
    "# Preview the first data point\n",
    "print(X[0])\n",
    "print(y[0])"
   ]
  },
  {
   "cell_type": "markdown",
   "metadata": {},
   "source": [
    "## Task 1\n",
    "\n",
    "Randomly split the input data into a [train and test partition](https://scikit-learn.org/stable/modules/generated/sklearn.model_selection.train_test_split.html), with at least 30% of the data reserved for testing. Use a random seed of `2024` for reproducibility of the results. "
   ]
  },
  {
   "cell_type": "code",
   "execution_count": 2,
   "metadata": {},
   "outputs": [],
   "source": [
    "import numpy as np\n",
    "from sklearn.model_selection import train_test_split\n",
    "X_train, X_test, y_train, y_test = train_test_split(\n",
    "    X, y, test_size=0.30, random_state=2024)"
   ]
  },
  {
   "cell_type": "markdown",
   "metadata": {},
   "source": [
    "## Task 2\n",
    "\n",
    "Build and evaluate a baseline model as follows. Calculate the proportion of the training data with target `1`, call this proportion `p`. For each example in the test data, randomly predict `1` with probability `p` and `0` otherwise. Set a random seed of `2024` before starting for reproducibility.\n",
    "\n",
    "Compute and visualize the [confusion matrix](https://scikit-learn.org/stable/auto_examples/miscellaneous/plot_display_object_visualization.html#create-confusionmatrixdisplay) of the resulting predictions on the test data. Also compute and report the [precision](https://scikit-learn.org/stable/modules/generated/sklearn.metrics.precision_score.html) and [recall](https://scikit-learn.org/stable/modules/generated/sklearn.metrics.recall_score.html) of the predictions on the test data. \n",
    "\n",
    "Briefly interpret the confusion matrix, precision, and recall. What do these quantities mean in the context of the predictive task?"
   ]
  },
  {
   "cell_type": "code",
   "execution_count": 3,
   "metadata": {},
   "outputs": [
    {
     "name": "stdout",
     "output_type": "stream",
     "text": [
      "Precision: 0.97\n",
      "Recall: 0.95\n"
     ]
    },
    {
     "data": {
      "image/png": "[encoded data removed]",
      "text/plain": [
       "<Figure size 640x480 with 2 Axes>"
      ]
     },
     "metadata": {},
     "output_type": "display_data"
    }
   ],
   "source": [
    "from sklearn.linear_model import LogisticRegression\n",
    "model = LogisticRegression(max_iter=5000)\n",
    "model.fit(X_train, y_train)\n",
    "test_probs = model.predict_proba(X_test)\n",
    "\n",
    "from sklearn.metrics import accuracy_score as acc\n",
    "train_pred =  model.predict(X_train)\n",
    "test_pred = model.predict(X_test)\n",
    "\n",
    "from sklearn.metrics import precision_score\n",
    "from sklearn.metrics import recall_score\n",
    "\n",
    "from sklearn.metrics import ConfusionMatrixDisplay\n",
    "ConfusionMatrixDisplay.from_estimator(model, X_test, y_test)\n",
    "print(f'Precision: {precision_score(y_test, test_pred):.2f}')\n",
    "print(f'Recall: {recall_score(y_test, test_pred):.2f}')"
   ]
  },
  {
   "cell_type": "markdown",
   "metadata": {},
   "source": []
  },
  {
   "cell_type": "markdown",
   "metadata": {},
   "source": [
    "## Task 3\n",
    "\n",
    "Randomly split the *training* data into a *train* and *validation* set; similar to how you [randomly split the original dataset](https://scikit-learn.org/stable/modules/generated/sklearn.model_selection.train_test_split.html), with 30% of the training data (equals 70% times 30% = 21% of the overall data) reserved for the validation set. Use a random seed of `2024` for reproducibility of the results.\n",
    "\n",
    "Build a [logistic regression model](https://scikit-learn.org/stable/modules/generated/sklearn.linear_model.LogisticRegression.html#logisticregression) on the train set with the parameter setting `penalty = 'None'` (this will train a basic model without applying any regularization). \n",
    "\n",
    "Evaluate the [accuracy](https://scikit-learn.org/stable/modules/generated/sklearn.metrics.accuracy_score.html) of your model on both (a) the train set, and (b) the validation set. Report your results and briefly explain whether you find evidence of *overfitting*, along with a brief description of what that means. \n",
    "\n",
    "If you do find evidence of overfitting, retrain the model (potentially multiple times) to reduce the overfitting by changing the `penalty` parameter to `l2` (this is the default) and trying different values of the `C` hyperparameter that controls the strength of regularization. Show your work and explain in English how you decided on a good setting of the hyperparameter `C` controlling the degree of regularization. \n",
    "\n",
    "You should conclude this task by reporting a final model that achieves comparable accuracy on the train set as the unregularized model and that mitigates any evidence of overfitting (it may not be possible to achieve a validation error that is no greater than the train error, but you should reduce the gap)."
   ]
  },
  {
   "cell_type": "code",
   "execution_count": 4,
   "metadata": {},
   "outputs": [
    {
     "name": "stdout",
     "output_type": "stream",
     "text": [
      "Training Accuracy: 0.98\n",
      "Validation Accuracy: 0.93\n"
     ]
    }
   ],
   "source": [
    "x_train2, x_validate, y_train2, y_validate = train_test_split(\n",
    "    X_train, y_train, test_size=0.30, random_state=2024)\n",
    "\n",
    "\n",
    "model2 = LogisticRegression(penalty='l2', max_iter= 50000, solver='liblinear', C=1\n",
    "                           )\n",
    "model2.fit(x_train2, y_train2)\n",
    "training_probs = model2.predict_proba(x_train2)\n",
    "validate_probs = model2.predict_proba(x_validate)\n",
    "\n",
    "train2_pred =  model2.predict(x_train2)\n",
    "validate_pred = model2.predict(x_validate)\n",
    "\n",
    "train_accuracy = acc(y_train2, train2_pred)\n",
    "validate_accuracy = acc(y_validate, validate_pred)\n",
    "\n",
    "print(f'Training Accuracy: {train_accuracy:.2f}')\n",
    "print(f'Validation Accuracy: {validate_accuracy:.2f}')"
   ]
  },
  {
   "cell_type": "markdown",
   "metadata": {},
   "source": [
    "Test 1 with penalty equal to none \n",
    "reported:\n",
    "Training Accuracy: 1.00\n",
    "Validation Accuracy: 0.94\n",
    "\n",
    "\n",
    "Test 2 with penalty equal to l2\n",
    "reported:\n",
    "Training Accuracy: 0.98\n",
    "Validation Accuracy: 0.93\n",
    "\n",
    "\n",
    "Test3 with penalty equal to l1\n",
    "reported:\n",
    "Training Accuracy: 0.98\n",
    "Validation Accuracy: 0.93\n",
    "\n",
    "\n",
    "\n",
    "Test 4 with penalty equal to elasticnet\n",
    "reported (results same for all l1 ratio):\n",
    "Training Accuracy: 0.94\n",
    "Validation Accuracy: 0.91\n",
    "\n",
    "\n",
    "C value changes:\n",
    "c= 0->1: c 0.96-0.98 for training accuracy and 0.91-0.93 for validation\n",
    "\n",
    "c= 1: 0.98 for training accuracy and 0.93 for validation\n",
    "\n",
    "c= 2: .97 for training accuracy and 0.93 for validation\n",
    "\n",
    "End: 0.98 for training accuracy and 0.93 for validation\n",
    "\n",
    "\n",
    "There was significant evidence of overfitting when the penalty was equal to none because the model returned the exact values from the training data resulting in a training accuracy of 100% while the validation accuracy was signifigantly worse. \n",
    "\n",
    "When we use the l2 penalties and look at the results from various hyperparameters, it appears best to use the l2 penalty and to set the c value equal to 1 this is because c=1 provided the same training and validation accuracy as much stronger penalties while also reducing the neccessary strenth of penalty. This penalty reduced the evidence of overfitting from not having a penalty by improving the training to validation accuracy gap from 9% to 5% and it retained comparable training accuracy reporting at 98%.\n"
   ]
  },
  {
   "cell_type": "markdown",
   "metadata": {},
   "source": [
    "## Task 4\n",
    "\n",
    "For the final model you trained in task 3, compute and visualize the [confusion matrix](https://scikit-learn.org/stable/auto_examples/miscellaneous/plot_display_object_visualization.html#create-confusionmatrixdisplay) of the resulting predictions on the test data. Also compute and report the [precision](https://scikit-learn.org/stable/modules/generated/sklearn.metrics.precision_score.html) and [recall](https://scikit-learn.org/stable/modules/generated/sklearn.metrics.recall_score.html) of the predictions on the test data. \n",
    "\n",
    "Based on your results, briefly describe how the resulting model is an improvement over the baseline from task 2, interpreting the reported metrics in the context of the predictive task."
   ]
  },
  {
   "cell_type": "code",
   "execution_count": 5,
   "metadata": {},
   "outputs": [
    {
     "ename": "NameError",
     "evalue": "name 'x_test' is not defined",
     "output_type": "error",
     "traceback": [
      "\u001b[1;31m---------------------------------------------------------------------------\u001b[0m",
      "\u001b[1;31mNameError\u001b[0m                                 Traceback (most recent call last)",
      "Cell \u001b[1;32mIn[5], line 5\u001b[0m\n\u001b[0;32m      2\u001b[0m \u001b[38;5;28;01mfrom\u001b[39;00m \u001b[38;5;21;01msklearn\u001b[39;00m\u001b[38;5;21;01m.\u001b[39;00m\u001b[38;5;21;01mmetrics\u001b[39;00m \u001b[38;5;28;01mimport\u001b[39;00m recall_score\n\u001b[0;32m      4\u001b[0m \u001b[38;5;28;01mfrom\u001b[39;00m \u001b[38;5;21;01msklearn\u001b[39;00m\u001b[38;5;21;01m.\u001b[39;00m\u001b[38;5;21;01mmetrics\u001b[39;00m \u001b[38;5;28;01mimport\u001b[39;00m ConfusionMatrixDisplay\n\u001b[1;32m----> 5\u001b[0m ConfusionMatrixDisplay\u001b[38;5;241m.\u001b[39mfrom_estimator(model, x_test, y_test)\n\u001b[0;32m      6\u001b[0m \u001b[38;5;28mprint\u001b[39m(\u001b[38;5;124mf\u001b[39m\u001b[38;5;124m'\u001b[39m\u001b[38;5;124mPrecision: \u001b[39m\u001b[38;5;132;01m{\u001b[39;00mprecision_score(y_test,\u001b[38;5;250m \u001b[39mtest_pred)\u001b[38;5;132;01m:\u001b[39;00m\u001b[38;5;124m.2f\u001b[39m\u001b[38;5;132;01m}\u001b[39;00m\u001b[38;5;124m'\u001b[39m)\n\u001b[0;32m      7\u001b[0m \u001b[38;5;28mprint\u001b[39m(\u001b[38;5;124mf\u001b[39m\u001b[38;5;124m'\u001b[39m\u001b[38;5;124mRecall: \u001b[39m\u001b[38;5;132;01m{\u001b[39;00mrecall_score(y_test,\u001b[38;5;250m \u001b[39mtest_pred)\u001b[38;5;132;01m:\u001b[39;00m\u001b[38;5;124m.2f\u001b[39m\u001b[38;5;132;01m}\u001b[39;00m\u001b[38;5;124m'\u001b[39m)\n",
      "\u001b[1;31mNameError\u001b[0m: name 'x_test' is not defined"
     ]
    }
   ],
   "source": [
    "from sklearn.metrics import precision_score\n",
    "from sklearn.metrics import recall_score\n",
    "\n",
    "from sklearn.metrics import ConfusionMatrixDisplay\n",
    "ConfusionMatrixDisplay.from_estimator(model, x_test, y_test)\n",
    "print(f'Precision: {precision_score(y_test, test_pred):.2f}')\n",
    "print(f'Recall: {recall_score(y_test, test_pred):.2f}')"
   ]
  },
  {
   "cell_type": "markdown",
   "metadata": {},
   "source": [
    "The final model's precision and recall are not significantly better than those of the baseline model. Precision indicates the proportion of true positives among all predicted positives, while recall measures the proportion of true positives among all actual positives. Stagnancy in these metrics suggest that neither model appears better at correctly identifying malignant tumors and reducing false positives and false negatives compared to one another since our method of optimal hyperparameter control in the end nearly matched the default values of the baseline as well as the results that come from testing."
   ]
  },
  {
   "cell_type": "markdown",
   "metadata": {},
   "source": [
    "## Task 5\n",
    "\n",
    "For the predictions of your final model trained in task 3, compute and visualize the [Receiver Operator Characteristic (ROC) Curve](https://scikit-learn.org/stable/modules/generated/sklearn.metrics.RocCurveDisplay.html#roccurvedisplay). Note that you need to use the *probability predictions* of the model, *not* the absolute 0/1 predictions, in order to correctly plot the ROC curve.\n",
    "\n",
    "Briefly interpret the ROC curve. In particular, what change(s) in the model account for the different possible false positive rates and true positive rates represented on the curve? In the context of a cancer detection task, why might one prefer to select a point on the curve other than the default (represented by your previous results in task 4)?"
   ]
  },
  {
   "cell_type": "code",
   "execution_count": null,
   "metadata": {},
   "outputs": [],
   "source": [
    "validate_probs_positive = validate_probs[:, 1]\n",
    "\n",
    "\n",
    "fpr, tpr, thresholds = metrics.roc_curve(y_validate, validate_probs_positive)\n",
    "roc_auc = metrics.auc(fpr, tpr)\n",
    "display = metrics.RocCurveDisplay(fpr=fpr, tpr=tpr, roc_auc=roc_auc, estimator_name='Logistic Regression')\n",
    "display.plot()\n",
    "plt.show()"
   ]
  },
  {
   "cell_type": "markdown",
   "metadata": {},
   "source": [
    "One may choose to select a point of the ROC curve as opposed to the default values as the ROC curve represent performance across various threshold values and by visualizing the performance at theese values we may be able to identify a change in value from the default which would improve our performance relative to the task if cancer detection. For example we may want our algorithim to err on the side of additional false positives if it improves the true positive rate as not flagging cancer for detection and leaving it untreated has worse consequences than flagging a sample for additional inspection that winds up being harmless. while this model may be less accurate on some standards as opposed to the default for this specific task it could end up saving lives by being less accurate as a whole.For example we could have a 100% true positive rate if we are willing to have a 30% false positive rate. While this would create additional work for doctors who may have to review samples by hand it would result in 0 cancer cases missed which ultimately seems more valuable."
   ]
  },
  {
   "cell_type": "markdown",
   "metadata": {},
   "source": [
    "## Task 6\n",
    "\n",
    "In practice, it can be very helpful to under **why** a predictive model made a particular prediction. *Interpretable* models have the property that a human can understand this aspect. One example of an interpretable model is the *decision tree*, especially a *shallow* decision tree.\n",
    "\n",
    "Build three [decision tree classifiers](https://scikit-learn.org/stable/modules/generated/sklearn.tree.DecisionTreeClassifier.html#sklearn.tree.DecisionTreeClassifier), one for each setting of the `max_depth` hyperparameter to `3`, `5`, and `7`. Fit each model on the train set from task 3, and evaluate the [accuracy](https://scikit-learn.org/stable/modules/generated/sklearn.metrics.accuracy_score.html), [precision](https://scikit-learn.org/stable/modules/generated/sklearn.metrics.precision_score.html) and [recall](https://scikit-learn.org/stable/modules/generated/sklearn.metrics.recall_score.html) of each model on the validation set (also from task 3). \n",
    "\n",
    "Report all of these validation measures for each model corresponding to different settings of `max_depth`, and select one as your final model. Briefly explain why you would select that model for this task. Compute and visualize the [confusion matrix](https://scikit-learn.org/stable/auto_examples/miscellaneous/plot_display_object_visualization.html#create-confusionmatrixdisplay) of your final decision tree model."
   ]
  },
  {
   "cell_type": "code",
   "execution_count": null,
   "metadata": {},
   "outputs": [],
   "source": [
    "# Write code for task 6 here\n",
    "\n",
    "from sklearn.tree import DecisionTreeClassifier\n",
    "from sklearn.metrics import accuracy_score, precision_score, recall_score, confusion_matrix, ConfusionMatrixDisplay\n",
    "import numpy as np\n",
    "\n",
    "max_depths = [3, 5, 7]\n",
    "results = []\n",
    "\n",
    "for max_depth in max_depths:\n",
    "    dt_model = DecisionTreeClassifier(max_depth=max_depth, random_state=2024)\n",
    "    dt_model.fit(X_train_final, y_train_final)\n",
    "    \n",
    "    y_val_pred = dt_model.predict(X_val)\n",
    "    \n",
    "    accuracy = accuracy_score(y_val, y_val_pred)\n",
    "    precision = precision_score(y_val, y_val_pred, average='weighted')  \n",
    "    recall = recall_score(y_val, y_val_pred, average='weighted')\n",
    "    \n",
    "    results.append({\n",
    "        'max_depth': max_depth,\n",
    "        'accuracy': accuracy,\n",
    "        'precision': precision,\n",
    "        'recall': recall\n",
    "    })\n",
    "\n",
    "for result in results:\n",
    "    print(f\"Max Depth: {result['max_depth']}, \"\n",
    "          f\"Accuracy: {result['accuracy']:.4f}, \"\n",
    "          f\"Precision: {result['precision']:.4f}, \"\n",
    "          f\"Recall: {result['recall']:.4f}\")\n",
    "\n",
    "best_model = max(results, key=lambda x: x['accuracy'])\n",
    "print(f\"Selected model: Max Depth {best_model['max_depth']} with Accuracy {best_model['accuracy']:.4f}\")\n",
    "\n",
    "final_model = DecisionTreeClassifier(max_depth=best_model['max_depth'], random_state=2024)\n",
    "final_model.fit(X_train_final, y_train_final)\n",
    "\n",
    "y_val_pred_final = final_model.predict(X_val)\n",
    "cm = confusion_matrix(y_val, y_val_pred_final)\n",
    "disp = ConfusionMatrixDisplay(confusion_matrix=cm)\n",
    "disp.plot()\n",
    "\n"
   ]
  },
  {
   "cell_type": "markdown",
   "metadata": {},
   "source": [
    "As shown in the output, we would select the model with max depth 3 because this model achieves the highest accuracy."
   ]
  }
 ],
 "metadata": {
  "kernelspec": {
   "display_name": "Python 3 (ipykernel)",
   "language": "python",
   "name": "python3"
  },
  "language_info": {
   "codemirror_mode": {
    "name": "ipython",
    "version": 3
   },
   "file_extension": ".py",
   "mimetype": "text/x-python",
   "name": "python",
   "nbconvert_exporter": "python",
   "pygments_lexer": "ipython3",
   "version": "3.11.5"
  }
 },
 "nbformat": 4,
 "nbformat_minor": 2
}
